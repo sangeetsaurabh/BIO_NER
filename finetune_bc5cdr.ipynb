{
 "cells": [
  {
   "cell_type": "code",
   "execution_count": 1,
   "metadata": {},
   "outputs": [
    {
     "name": "stdout",
     "output_type": "stream",
     "text": [
      "Collecting transformers\n",
      "  Downloading transformers-3.0.2-py3-none-any.whl (769 kB)\n",
      "\u001b[K     |████████████████████████████████| 769 kB 4.9 MB/s eta 0:00:01\n",
      "\u001b[?25hCollecting tokenizers==0.8.1.rc1\n",
      "  Downloading tokenizers-0.8.1rc1-cp36-cp36m-manylinux1_x86_64.whl (3.0 MB)\n",
      "\u001b[K     |████████████████████████████████| 3.0 MB 24.8 MB/s eta 0:00:01\n",
      "\u001b[?25hRequirement already satisfied: packaging in /home/ec2-user/anaconda3/envs/pytorch_latest_p36/lib/python3.6/site-packages (from transformers) (20.3)\n",
      "Collecting sacremoses\n",
      "  Downloading sacremoses-0.0.43.tar.gz (883 kB)\n",
      "\u001b[K     |████████████████████████████████| 883 kB 96.2 MB/s eta 0:00:01\n",
      "\u001b[?25hRequirement already satisfied: numpy in /home/ec2-user/anaconda3/envs/pytorch_latest_p36/lib/python3.6/site-packages (from transformers) (1.18.1)\n",
      "Requirement already satisfied: tqdm>=4.27 in /home/ec2-user/anaconda3/envs/pytorch_latest_p36/lib/python3.6/site-packages (from transformers) (4.44.1)\n",
      "Collecting sentencepiece!=0.1.92\n",
      "  Downloading sentencepiece-0.1.91-cp36-cp36m-manylinux1_x86_64.whl (1.1 MB)\n",
      "\u001b[K     |████████████████████████████████| 1.1 MB 86.5 MB/s eta 0:00:01\n",
      "\u001b[?25hRequirement already satisfied: dataclasses; python_version < \"3.7\" in /home/ec2-user/anaconda3/envs/pytorch_latest_p36/lib/python3.6/site-packages (from transformers) (0.6)\n",
      "Requirement already satisfied: filelock in /home/ec2-user/anaconda3/envs/pytorch_latest_p36/lib/python3.6/site-packages (from transformers) (3.0.12)\n",
      "Collecting regex!=2019.12.17\n",
      "  Downloading regex-2020.7.14-cp36-cp36m-manylinux2010_x86_64.whl (660 kB)\n",
      "\u001b[K     |████████████████████████████████| 660 kB 81.0 MB/s eta 0:00:01\n",
      "\u001b[?25hRequirement already satisfied: requests in /home/ec2-user/anaconda3/envs/pytorch_latest_p36/lib/python3.6/site-packages (from transformers) (2.23.0)\n",
      "Requirement already satisfied: six in /home/ec2-user/anaconda3/envs/pytorch_latest_p36/lib/python3.6/site-packages (from packaging->transformers) (1.14.0)\n",
      "Requirement already satisfied: pyparsing>=2.0.2 in /home/ec2-user/anaconda3/envs/pytorch_latest_p36/lib/python3.6/site-packages (from packaging->transformers) (2.4.6)\n",
      "Requirement already satisfied: click in /home/ec2-user/anaconda3/envs/pytorch_latest_p36/lib/python3.6/site-packages (from sacremoses->transformers) (7.1.1)\n",
      "Requirement already satisfied: joblib in /home/ec2-user/anaconda3/envs/pytorch_latest_p36/lib/python3.6/site-packages (from sacremoses->transformers) (0.14.1)\n",
      "Requirement already satisfied: certifi>=2017.4.17 in /home/ec2-user/anaconda3/envs/pytorch_latest_p36/lib/python3.6/site-packages (from requests->transformers) (2020.4.5.2)\n",
      "Requirement already satisfied: chardet<4,>=3.0.2 in /home/ec2-user/anaconda3/envs/pytorch_latest_p36/lib/python3.6/site-packages (from requests->transformers) (3.0.4)\n",
      "Requirement already satisfied: urllib3!=1.25.0,!=1.25.1,<1.26,>=1.21.1 in /home/ec2-user/anaconda3/envs/pytorch_latest_p36/lib/python3.6/site-packages (from requests->transformers) (1.25.8)\n",
      "Requirement already satisfied: idna<3,>=2.5 in /home/ec2-user/anaconda3/envs/pytorch_latest_p36/lib/python3.6/site-packages (from requests->transformers) (2.9)\n",
      "Building wheels for collected packages: sacremoses\n",
      "  Building wheel for sacremoses (setup.py) ... \u001b[?25ldone\n",
      "\u001b[?25h  Created wheel for sacremoses: filename=sacremoses-0.0.43-py3-none-any.whl size=893259 sha256=6e671f79bd3593614d83c4274821e0ffa2a14cae05ebd373975e11da64b77157\n",
      "  Stored in directory: /home/ec2-user/.cache/pip/wheels/49/25/98/cdea9c79b2d9a22ccc59540b1784b67f06b633378e97f58da2\n",
      "Successfully built sacremoses\n",
      "Installing collected packages: tokenizers, regex, sacremoses, sentencepiece, transformers\n",
      "Successfully installed regex-2020.7.14 sacremoses-0.0.43 sentencepiece-0.1.91 tokenizers-0.8.1rc1 transformers-3.0.2\n",
      "\u001b[33mWARNING: You are using pip version 20.0.2; however, version 20.1.1 is available.\n",
      "You should consider upgrading via the '/home/ec2-user/anaconda3/envs/pytorch_latest_p36/bin/python -m pip install --upgrade pip' command.\u001b[0m\n"
     ]
    }
   ],
   "source": [
    "!pip install transformers"
   ]
  },
  {
   "cell_type": "code",
   "execution_count": 2,
   "metadata": {},
   "outputs": [
    {
     "name": "stdout",
     "output_type": "stream",
     "text": [
      "Collecting sklearn_crfsuite\n",
      "  Downloading sklearn_crfsuite-0.3.6-py2.py3-none-any.whl (12 kB)\n",
      "Collecting python-crfsuite>=0.8.3\n",
      "  Downloading python_crfsuite-0.9.7-cp36-cp36m-manylinux1_x86_64.whl (743 kB)\n",
      "\u001b[K     |████████████████████████████████| 743 kB 8.6 MB/s eta 0:00:01\n",
      "\u001b[?25hRequirement already satisfied: tqdm>=2.0 in /home/ec2-user/anaconda3/envs/pytorch_latest_p36/lib/python3.6/site-packages (from sklearn_crfsuite) (4.44.1)\n",
      "Requirement already satisfied: six in /home/ec2-user/anaconda3/envs/pytorch_latest_p36/lib/python3.6/site-packages (from sklearn_crfsuite) (1.14.0)\n",
      "Collecting tabulate\n",
      "  Downloading tabulate-0.8.7-py3-none-any.whl (24 kB)\n",
      "Installing collected packages: python-crfsuite, tabulate, sklearn-crfsuite\n",
      "Successfully installed python-crfsuite-0.9.7 sklearn-crfsuite-0.3.6 tabulate-0.8.7\n",
      "\u001b[33mWARNING: You are using pip version 20.0.2; however, version 20.1.1 is available.\n",
      "You should consider upgrading via the '/home/ec2-user/anaconda3/envs/pytorch_latest_p36/bin/python -m pip install --upgrade pip' command.\u001b[0m\n"
     ]
    }
   ],
   "source": [
    "!pip install sklearn_crfsuite"
   ]
  },
  {
   "cell_type": "markdown",
   "metadata": {},
   "source": [
    "### Import Modules"
   ]
  },
  {
   "cell_type": "code",
   "execution_count": 3,
   "metadata": {},
   "outputs": [],
   "source": [
    "import torch\n",
    "import torch.nn as nn\n",
    "import torch.optim as optim\n",
    "from torch.utils import data\n",
    "import os\n",
    "import numpy as np\n",
    "from collections import OrderedDict\n",
    "from sklearn.metrics import classification_report\n",
    "from sklearn_crfsuite.utils import flatten\n",
    "\n",
    "from transformers import AutoTokenizer, AutoModelWithLMHead, AutoModel"
   ]
  },
  {
   "cell_type": "code",
   "execution_count": 4,
   "metadata": {},
   "outputs": [
    {
     "data": {
      "text/plain": [
       "'/home/ec2-user/SageMaker/BIO_NER'"
      ]
     },
     "execution_count": 4,
     "metadata": {},
     "output_type": "execute_result"
    }
   ],
   "source": [
    "import os\n",
    "os.getcwd()"
   ]
  },
  {
   "cell_type": "markdown",
   "metadata": {},
   "source": [
    "#### Load the data"
   ]
  },
  {
   "cell_type": "code",
   "execution_count": 5,
   "metadata": {},
   "outputs": [],
   "source": [
    "class HParams:\n",
    "    def __init__(self, vocab_type):\n",
    "        self.VOCAB_DICT = {\n",
    "            'bc5cdr': ('<PAD>', 'O', 'B-Chemical', 'B-Disease' , 'I-Disease', 'I-Chemical'),\n",
    "            'bionlp3g' : ('<PAD>', 'O' ,'B-Amino_acid', 'B-Anatomical_system', 'B-Cancer', 'B-Cell', \n",
    "                        'B-Cellular_component', 'B-Developing_anatomical_structure', 'B-Gene_or_gene_product', \n",
    "                        'B-Immaterial_anatomical_entity', 'B-Multi-tissue_structure', 'B-Organ', 'B-Organism', \n",
    "                        'B-Organism_subdivision', 'B-Organism_substance', 'B-Pathological_formation', \n",
    "                        'B-Simple_chemical', 'B-Tissue', 'I-Amino_acid', 'I-Anatomical_system', 'I-Cancer', \n",
    "                        'I-Cell', 'I-Cellular_component', 'I-Developing_anatomical_structure', 'I-Gene_or_gene_product', \n",
    "                        'I-Immaterial_anatomical_entity', 'I-Multi-tissue_structure', 'I-Organ', 'I-Organism', \n",
    "                        'I-Organism_subdivision', 'I-Organism_substance', 'I-Pathological_formation', 'I-Simple_chemical', \n",
    "                        'I-Tissue')\n",
    "        }\n",
    "        self.VOCAB = self.VOCAB_DICT[vocab_type]\n",
    "        self.tag2idx = {v:k for k,v in enumerate(self.VOCAB)}\n",
    "        self.idx2tag = {k:v for k,v in enumerate(self.VOCAB)}\n",
    "\n",
    "        self.batch_size = 128 \n",
    "        self.lr = 0.0001\n",
    "        self.n_epochs = 30 \n",
    "\n",
    "        #self.tokenizer = BertTokenizer(vocab_file=VOCAB_FILE, do_lower_case=False)\n",
    "        self.tokenizer = AutoTokenizer.from_pretrained(\"monologg/biobert_v1.0_pubmed_pmc\")\n",
    "        self.device = 'cuda' if torch.cuda.is_available() else 'cpu'\n",
    "\n",
    "\n",
    "class NerDataset(data.Dataset):\n",
    "    def __init__(self, path, vocab_type):\n",
    "        self.hp = HParams(vocab_type)\n",
    "        instances = open(path).read().strip().split('\\n\\n')\n",
    "        sents = []\n",
    "        tags_li = []\n",
    "        for entry in instances:\n",
    "            words = [line.split()[0] for line in entry.splitlines()]\n",
    "            tags = ([line.split()[-1] for line in entry.splitlines()])\n",
    "            sents.append([\"[CLS]\"] + words + [\"[SEP]\"])\n",
    "            tags_li.append([\"<PAD>\"] + tags + [\"<PAD>\"])\n",
    "        self.sents, self.tags_li = sents, tags_li\n",
    "\n",
    "    def __len__(self):\n",
    "        return len(self.sents)\n",
    "\n",
    "\n",
    "    def __getitem__(self, idx):\n",
    "        words, tags = self.sents[idx], self.tags_li[idx] # words, tags: string list\n",
    "\n",
    "        # We give credits only to the first piece.\n",
    "        x, y = [], [] # list of ids\n",
    "        is_heads = [] # list. 1: the token is the first piece of a word\n",
    "        for w, t in zip(words, tags):\n",
    "            tokens = self.hp.tokenizer.tokenize(w) if w not in (\"[CLS]\", \"[SEP]\") else [w]\n",
    "            xx = self.hp.tokenizer.convert_tokens_to_ids(tokens)\n",
    "\n",
    "            is_head = [1] + [0]*(len(tokens) - 1)\n",
    "\n",
    "            t = [t] + [\"<PAD>\"] * (len(tokens) - 1)  # <PAD>: no decision\n",
    "            yy = [self.hp.tag2idx[each] for each in t]  # (T,)\n",
    "\n",
    "            x.extend(xx)\n",
    "            is_heads.extend(is_head)\n",
    "            y.extend(yy)\n",
    "\n",
    "        assert len(x)==len(y)==len(is_heads), f\"len(x)={len(x)}, len(y)={len(y)}, len(is_heads)={len(is_heads)}\"\n",
    "\n",
    "        # seqlen\n",
    "        seqlen = len(y)\n",
    "\n",
    "        # to string\n",
    "        words = \" \".join(words)\n",
    "        tags = \" \".join(tags)\n",
    "        return words, x, is_heads, tags, y, seqlen\n",
    "\n",
    "\n",
    "def pad(batch):\n",
    "    '''Pads to the longest sample'''\n",
    "    f = lambda x: [sample[x] for sample in batch]\n",
    "    words = f(0)\n",
    "    is_heads = f(2)\n",
    "    tags = f(3)\n",
    "    seqlens = f(-1)\n",
    "    maxlen = np.array(seqlens).max()\n",
    "\n",
    "    f = lambda x, seqlen: [sample[x] + [0] * (seqlen - len(sample[x])) for sample in batch] # 0: <pad>\n",
    "    x = f(1, maxlen)\n",
    "    y = f(-2, maxlen)\n",
    "\n",
    "\n",
    "    f = torch.LongTensor\n",
    "\n",
    "    return words, f(x), is_heads, tags, f(y), seqlens"
   ]
  },
  {
   "cell_type": "markdown",
   "metadata": {},
   "source": [
    "#### Define the Model"
   ]
  },
  {
   "cell_type": "code",
   "execution_count": 7,
   "metadata": {},
   "outputs": [],
   "source": [
    "import torch\n",
    "import torch.nn as nn\n",
    "\n",
    "class Net(nn.Module):\n",
    "    def __init__(self, vocab_len, device = 'cpu'):\n",
    "        super().__init__()\n",
    "        self.bert = AutoModel.from_pretrained(\"monologg/biobert_v1.0_pubmed_pmc\")\n",
    "        self.bert.eval()\n",
    "        self.rnn = nn.LSTM(bidirectional=True, num_layers=2, input_size=768, hidden_size=768//2, batch_first=True)\n",
    "        self.fc = nn.Linear(768, vocab_len)\n",
    "        self.device = device\n",
    "\n",
    "    def forward(self, x, y):\n",
    "        '''\n",
    "        x: (N, T). int64\n",
    "        y: (N, T). int64\n",
    "\n",
    "        Returns\n",
    "        enc: (N, T, VOCAB)\n",
    "        '''\n",
    "        x = x.to(self.device)\n",
    "        y = y.to(self.device)\n",
    "        #print(x.shape)\n",
    "        #print(y.shape)\n",
    "\n",
    "        with torch.no_grad():\n",
    "            encoded_layers, _ = self.bert(x)\n",
    "            #print(encoded_layers.shape)\n",
    "            #enc = encoded_layers[-1]\n",
    "            #print(enc.shape)\n",
    "        enc, _ = self.rnn(encoded_layers)\n",
    "        #print(enc.shape)\n",
    "        logits = self.fc(enc)\n",
    "        y_hat = logits.argmax(-1)\n",
    "        return logits, y, y_hat"
   ]
  },
  {
   "cell_type": "markdown",
   "metadata": {},
   "source": [
    "### Train the model"
   ]
  },
  {
   "cell_type": "code",
   "execution_count": 8,
   "metadata": {},
   "outputs": [],
   "source": [
    "### Train the model\n",
    "def train(model, iterator, optimizer, criterion):\n",
    "    model.train()\n",
    "    for i, batch in enumerate(iterator):\n",
    "        words, x, is_heads, tags, y, seqlens = batch\n",
    "        _y = y # for monitoring\n",
    "        optimizer.zero_grad()\n",
    "        logits, y, _ = model(x, y) # logits: (N, T, VOCAB), y: (N, T)\n",
    "\n",
    "        logits = logits.view(-1, logits.shape[-1]) # (N*T, VOCAB)\n",
    "        y = y.view(-1)  # (N*T,)\n",
    "\n",
    "        loss = criterion(logits, y)\n",
    "        loss.backward()\n",
    "\n",
    "        optimizer.step()\n",
    "\n",
    "        if i==0:\n",
    "            print(\"=====sanity check======\")\n",
    "            #print(\"x:\", x.cpu().numpy()[0])\n",
    "            print(\"words:\", words[0])\n",
    "            print(\"\\n\")\n",
    "            #print(\"tokens:\", hp.tokenizer.convert_ids_to_tokens(x.cpu().numpy()[0]))\n",
    "            #print(\"y:\", _y.cpu().numpy()[0])\n",
    "            #print(\"is_heads:\", is_heads[0])\n",
    "            print(\"tags:\", tags[0])\n",
    "            print(\"\\n\")\n",
    "            #print(\"seqlen:\", seqlens[0])\n",
    "\n",
    "\n",
    "        if i%10==0: # monitoring\n",
    "            print(f\"step: {i}, loss: {loss.item()}\")\n",
    "\n",
    "def eval(model, iterator, f):\n",
    "    model.eval()\n",
    "\n",
    "    Words, Is_heads, Tags, Y, Y_hat = [], [], [], [], []\n",
    "    with torch.no_grad():\n",
    "        for i, batch in enumerate(iterator):\n",
    "            words, x, is_heads, tags, y, seqlens = batch\n",
    "\n",
    "            _, _, y_hat = model(x, y)  # y_hat: (N, T)\n",
    "\n",
    "            Words.extend(words)\n",
    "            Is_heads.extend(is_heads)\n",
    "            Tags.extend(tags)\n",
    "            Y.extend(y.numpy().tolist())\n",
    "            Y_hat.extend(y_hat.cpu().numpy().tolist())\n",
    "\n",
    "    \n",
    "    y_pred =[]\n",
    "    y_true = []\n",
    "    for words, is_heads, tags, y_hat, y in zip(Words, Is_heads, Tags, Y_hat, Y):\n",
    "            y_hat = [hat for head, hat in zip(is_heads, y_hat) if head == 1]\n",
    "            y_pred.append(y_hat[1:-1])\n",
    "            y = [hat for head, hat in zip(is_heads, y) if head == 1]\n",
    "            y_true.append(y[1:-1])\n",
    "            assert len(y_pred)==len(y_true), f\"len(y_pred)={len(y_pred)}, len(y_true)={len(y_true)}\"\n",
    "            assert len(flatten(y_pred))==len(flatten(y_true)), f\"len(flatten(y_pred))={flatten(y_pred)}, len(flatten(y_true))={flatten(y_true)}\"\n",
    "\n",
    "    print(classification_report(flatten(y_true), flatten(y_pred), target_names=list(hp.tag2idx.keys())[1:]))\n",
    "    \n",
    "    final_report = classification_report(flatten(y_true), flatten(y_pred), target_names=list(hp.tag2idx.keys())[1:],output_dict=True)\n",
    "\n",
    "    return final_report[\"weighted avg\"]['precision'], final_report[\"weighted avg\"]['recall'], final_report[\"weighted avg\"]['f1-score']\n",
    "\n",
    "def save_the_results(model, iterator, f):\n",
    "    model.eval()\n",
    "\n",
    "    Words, Is_heads, Tags, Y, Y_hat = [], [], [], [], []\n",
    "    with torch.no_grad():\n",
    "        for i, batch in enumerate(iterator):\n",
    "            words, x, is_heads, tags, y, seqlens = batch\n",
    "\n",
    "            _, _, y_hat = model(x, y)  # y_hat: (N, T)\n",
    "\n",
    "            Words.extend(words)\n",
    "            Is_heads.extend(is_heads)\n",
    "            Tags.extend(tags)\n",
    "            Y.extend(y.numpy().tolist())\n",
    "            Y_hat.extend(y_hat.cpu().numpy().tolist())\n",
    "\n",
    "    ## gets results and save\n",
    "    with open(f, 'w') as fout:\n",
    "        for words, is_heads, tags, y_hat in zip(Words, Is_heads, Tags, Y_hat):\n",
    "            y_hat = [hat for head, hat in zip(is_heads, y_hat) if head == 1]\n",
    "            preds = [hp.idx2tag[hat] for hat in y_hat]\n",
    "            assert len(preds)==len(words.split())==len(tags.split())\n",
    "            for w, t, p in zip(words.split()[1:-1], tags.split()[1:-1], preds[1:-1]):\n",
    "                fout.write(f\"{w} {t} {p}\\n\")\n",
    "            fout.write(\"\\n\")\n",
    "\n",
    "    ## calc metric\n",
    "    y_true =  np.array([hp.tag2idx[line.split()[1]] for line in open(f, 'r').read().splitlines() if len(line) > 0])\n",
    "    y_pred =  np.array([hp.tag2idx[line.split()[2]] for line in open(f, 'r').read().splitlines() if len(line) > 0])\n",
    "\n",
    "    print(classification_report(y_true, y_pred, target_names=list(hp.tag2idx.keys())[1:]))\n",
    "    \n",
    "    final_report = classification_report(y_true, y_pred, target_names=list(hp.tag2idx.keys())[1:],output_dict=True)\n",
    "\n",
    "    final = f + \".P%.2f_R%.2f_F%.2f\" %(final_report['weighted avg']['precision'], final_report['weighted avg']['recall'], final_report['weighted avg']['f1-score'])\n",
    "    with open(final, 'w') as fout:\n",
    "        result = open(f, \"r\").read()\n",
    "        fout.write(f\"{result}\\n\")\n",
    "\n",
    "        fout.write(f\"accuracy={final_report['accuracy']}\\n\")\n",
    "        fout.write(f\"precision={final_report['weighted avg']['precision']}\\n\")\n",
    "        fout.write(f\"recall={final_report['weighted avg']['recall']}\\n\")\n",
    "        fout.write(f\"f1={final_report['weighted avg']['f1-score']}\\n\")\n",
    "\n",
    "    os.remove(f)\n",
    "    return final_report[\"weighted avg\"]['precision'], final_report[\"weighted avg\"]['recall'], final_report[\"weighted avg\"]['f1-score']"
   ]
  },
  {
   "cell_type": "code",
   "execution_count": null,
   "metadata": {},
   "outputs": [
    {
     "data": {
      "application/vnd.jupyter.widget-view+json": {
       "model_id": "9de7173e1e52423fa901105df8b4d220",
       "version_major": 2,
       "version_minor": 0
      },
      "text/plain": [
       "HBox(children=(FloatProgress(value=0.0, description='Downloading', max=411.0, style=ProgressStyle(description_…"
      ]
     },
     "metadata": {},
     "output_type": "display_data"
    },
    {
     "name": "stdout",
     "output_type": "stream",
     "text": [
      "\n"
     ]
    },
    {
     "data": {
      "application/vnd.jupyter.widget-view+json": {
       "model_id": "8608e2298085432ab2ce807303457a34",
       "version_major": 2,
       "version_minor": 0
      },
      "text/plain": [
       "HBox(children=(FloatProgress(value=0.0, description='Downloading', max=213450.0, style=ProgressStyle(descripti…"
      ]
     },
     "metadata": {},
     "output_type": "display_data"
    },
    {
     "name": "stdout",
     "output_type": "stream",
     "text": [
      "\n"
     ]
    },
    {
     "data": {
      "application/vnd.jupyter.widget-view+json": {
       "model_id": "4831493f6d3c472c833d6cff1f37d335",
       "version_major": 2,
       "version_minor": 0
      },
      "text/plain": [
       "HBox(children=(FloatProgress(value=0.0, description='Downloading', max=112.0, style=ProgressStyle(description_…"
      ]
     },
     "metadata": {},
     "output_type": "display_data"
    },
    {
     "name": "stdout",
     "output_type": "stream",
     "text": [
      "\n"
     ]
    },
    {
     "data": {
      "application/vnd.jupyter.widget-view+json": {
       "model_id": "992dd6c0888047e3a5a9fdbf38b82905",
       "version_major": 2,
       "version_minor": 0
      },
      "text/plain": [
       "HBox(children=(FloatProgress(value=0.0, description='Downloading', max=51.0, style=ProgressStyle(description_w…"
      ]
     },
     "metadata": {},
     "output_type": "display_data"
    },
    {
     "name": "stdout",
     "output_type": "stream",
     "text": [
      "\n"
     ]
    },
    {
     "data": {
      "application/vnd.jupyter.widget-view+json": {
       "model_id": "22962959b2694419b9dad8ddf8275882",
       "version_major": 2,
       "version_minor": 0
      },
      "text/plain": [
       "HBox(children=(FloatProgress(value=0.0, description='Downloading', max=435780013.0, style=ProgressStyle(descri…"
      ]
     },
     "metadata": {},
     "output_type": "display_data"
    },
    {
     "name": "stdout",
     "output_type": "stream",
     "text": [
      "\n",
      "=====sanity check======\n",
      "words: [CLS] Flestolol effectively reduced heart rate in patients with supraventricular tachyarrhythmia . [SEP]\n",
      "\n",
      "\n",
      "tags: <PAD> B-Chemical O O O O O O O B-Disease I-Disease O <PAD>\n",
      "\n",
      "\n",
      "step: 0, loss: 1.7831779718399048\n",
      "step: 10, loss: 0.8297454118728638\n",
      "step: 20, loss: 0.6092550158500671\n",
      "step: 30, loss: 0.5216512680053711\n",
      "=========eval at epoch=1=========\n"
     ]
    },
    {
     "name": "stderr",
     "output_type": "stream",
     "text": [
      "/home/ec2-user/anaconda3/envs/pytorch_latest_p36/lib/python3.6/site-packages/sklearn/metrics/_classification.py:1272: UndefinedMetricWarning: Precision and F-score are ill-defined and being set to 0.0 in labels with no predicted samples. Use `zero_division` parameter to control this behavior.\n",
      "  _warn_prf(average, modifier, msg_start, len(result))\n"
     ]
    },
    {
     "name": "stdout",
     "output_type": "stream",
     "text": [
      "              precision    recall  f1-score   support\n",
      "\n",
      "           O       0.89      1.00      0.94    110576\n",
      "  B-Chemical       0.00      0.00      0.00      5385\n",
      "   B-Disease       0.00      0.00      0.00      4424\n",
      "   I-Disease       0.00      0.00      0.00      2737\n",
      "  I-Chemical       0.00      0.00      0.00      1628\n",
      "\n",
      "    accuracy                           0.89    124750\n",
      "   macro avg       0.18      0.20      0.19    124750\n",
      "weighted avg       0.79      0.89      0.83    124750\n",
      "\n",
      "=====sanity check======\n",
      "words: [CLS] HMG CoA reductase inhibitors . [SEP]\n",
      "\n",
      "\n",
      "tags: <PAD> O O O O O <PAD>\n",
      "\n",
      "\n",
      "step: 0, loss: 0.5225101113319397\n",
      "step: 10, loss: 0.4756793677806854\n",
      "step: 20, loss: 0.45737534761428833\n",
      "step: 30, loss: 0.4888405203819275\n",
      "=========eval at epoch=2=========\n",
      "              precision    recall  f1-score   support\n",
      "\n",
      "           O       0.89      1.00      0.94    110576\n",
      "  B-Chemical       0.00      0.00      0.00      5385\n",
      "   B-Disease       0.00      0.00      0.00      4424\n",
      "   I-Disease       0.00      0.00      0.00      2737\n",
      "  I-Chemical       0.00      0.00      0.00      1628\n",
      "\n",
      "    accuracy                           0.89    124750\n",
      "   macro avg       0.18      0.20      0.19    124750\n",
      "weighted avg       0.79      0.89      0.83    124750\n",
      "\n",
      "=====sanity check======\n",
      "words: [CLS] METHODS : Renal ACE activity ( Hip - His - Leu cleavage by cortical homogenates ) was determined by renal biopsy in 27 adult male Wistar rats . [SEP]\n",
      "\n",
      "\n",
      "tags: <PAD> O O O O O O B-Chemical I-Chemical I-Chemical I-Chemical I-Chemical O O O O O O O O O O O O O O O O O <PAD>\n",
      "\n",
      "\n",
      "step: 0, loss: 0.39995327591896057\n",
      "step: 10, loss: 0.4271640181541443\n",
      "step: 20, loss: 0.35704079270362854\n",
      "step: 30, loss: 0.31247478723526\n",
      "=========eval at epoch=3=========\n",
      "              precision    recall  f1-score   support\n",
      "\n",
      "           O       0.92      1.00      0.95    110576\n",
      "  B-Chemical       0.77      0.39      0.52      5385\n",
      "   B-Disease       0.53      0.12      0.20      4424\n",
      "   I-Disease       0.95      0.03      0.06      2737\n",
      "  I-Chemical       0.89      0.30      0.45      1628\n",
      "\n",
      "    accuracy                           0.91    124750\n",
      "   macro avg       0.81      0.37      0.44    124750\n",
      "weighted avg       0.90      0.91      0.88    124750\n",
      "\n",
      "=====sanity check======\n",
      "words: [CLS] Consequently , carmofur - induced leukoencephalopathy may uncommonly result in organic personality syndrome in the residual state . [SEP]\n",
      "\n",
      "\n",
      "tags: <PAD> O O B-Chemical O O B-Disease O O O O B-Disease I-Disease I-Disease O O O O O <PAD>\n",
      "\n",
      "\n",
      "step: 0, loss: 0.27161896228790283\n",
      "step: 10, loss: 0.23183070123195648\n",
      "step: 20, loss: 0.24258743226528168\n",
      "step: 30, loss: 0.23275503516197205\n",
      "=========eval at epoch=4=========\n",
      "              precision    recall  f1-score   support\n",
      "\n",
      "           O       0.95      0.99      0.97    110576\n",
      "  B-Chemical       0.88      0.65      0.75      5385\n",
      "   B-Disease       0.71      0.47      0.56      4424\n",
      "   I-Disease       0.60      0.47      0.53      2737\n",
      "  I-Chemical       0.80      0.47      0.60      1628\n",
      "\n",
      "    accuracy                           0.94    124750\n",
      "   macro avg       0.79      0.61      0.68    124750\n",
      "weighted avg       0.93      0.94      0.93    124750\n",
      "\n",
      "=====sanity check======\n",
      "words: [CLS] BACKGROUND : Current animal models of obsessive - compulsive disorder ( OCD ) typically involve acute , drug - induced symptom provocation or a genetic association with stereotypies or anxiety . [SEP]\n",
      "\n",
      "\n",
      "tags: <PAD> O O O O O O B-Disease I-Disease I-Disease I-Disease O B-Disease O O O O O O O O O O O O O O O O O B-Disease O <PAD>\n",
      "\n",
      "\n",
      "step: 0, loss: 0.19350038468837738\n",
      "step: 10, loss: 0.1702457070350647\n",
      "step: 20, loss: 0.16570943593978882\n",
      "step: 30, loss: 0.17672374844551086\n"
     ]
    }
   ],
   "source": [
    "train_dataset = NerDataset(\"./data/BC5CDR-IOB/train.tsv\", 'bc5cdr')  # here bc5cdr is dataset type\n",
    "eval_dataset = NerDataset(\"./data/BC5CDR-IOB/test.tsv\", 'bc5cdr')\n",
    "hp = HParams('bc5cdr')\n",
    "\n",
    "# Define model \n",
    "model = Net(vocab_len = len(hp.VOCAB), device=hp.device)\n",
    "if torch.cuda.is_available():\n",
    "    model.cuda()\n",
    "model.train()\n",
    "# update with already pretrained weight\n",
    "\n",
    "\n",
    "    \n",
    "train_iter = data.DataLoader(dataset=train_dataset,\n",
    "                            batch_size=hp.batch_size,\n",
    "                            shuffle=True,\n",
    "                            num_workers=4,\n",
    "                            collate_fn=pad)\n",
    "eval_iter = data.DataLoader(dataset=eval_dataset,\n",
    "                            batch_size=hp.batch_size,\n",
    "                            shuffle=False,\n",
    "                            num_workers=4,\n",
    "                            collate_fn=pad)\n",
    "\n",
    "optimizer = optim.Adam(model.parameters(), lr = hp.lr)\n",
    "# optimizer = optim.SGD(model.parameters(), lr=0.0001, momentum=0.9)\n",
    "criterion = nn.CrossEntropyLoss(ignore_index=0)\n",
    "\n",
    "for epoch in range(1, hp.n_epochs+1):\n",
    "    train(model, train_iter, optimizer, criterion)\n",
    "    print(f\"=========eval at epoch={epoch}=========\")\n",
    "    if not os.path.exists('checkpoints'): os.makedirs('checkpoints')\n",
    "    fname = os.path.join('checkpoints', str(epoch))\n",
    "    precision, recall, f1 = eval(model, eval_iter, fname)\n",
    "    torch.save(model.state_dict(), f\"{fname}.pt\")"
   ]
  },
  {
   "cell_type": "code",
   "execution_count": null,
   "metadata": {},
   "outputs": [],
   "source": [
    "train_iter.batch_size"
   ]
  },
  {
   "cell_type": "code",
   "execution_count": null,
   "metadata": {},
   "outputs": [],
   "source": [
    "from transformers import AutoTokenizer, AutoModel\n",
    "\n",
    "tokenizer = AutoTokenizer.from_pretrained(\"monologg/biobert_v1.0_pubmed_pmc\")\n",
    "\n",
    "model = AutoModel.from_pretrained(\"monologg/biobert_v1.0_pubmed_pmc\")\n"
   ]
  },
  {
   "cell_type": "code",
   "execution_count": null,
   "metadata": {},
   "outputs": [],
   "source": [
    "tokenizer.vocab_size"
   ]
  },
  {
   "cell_type": "code",
   "execution_count": null,
   "metadata": {},
   "outputs": [],
   "source": []
  },
  {
   "cell_type": "code",
   "execution_count": null,
   "metadata": {},
   "outputs": [],
   "source": [
    "train_dataset = NerDataset(\"./../../MTL-Bioinformatics-2016/data/BC5CDR-IOB/train.tsv\", 'bc5cdr')  # here bc5cdr is dataset type\n",
    "hp = HParams('bc5cdr')\n",
    "model = Net(vocab_len = len(hp.VOCAB), device=hp.device)\n",
    "train_iter = data.DataLoader(dataset=train_dataset,\n",
    "                            batch_size=4,\n",
    "                            shuffle=True,\n",
    "                            num_workers=4,\n",
    "                            collate_fn=pad)"
   ]
  },
  {
   "cell_type": "code",
   "execution_count": null,
   "metadata": {},
   "outputs": [],
   "source": [
    "loss = nn.CrossEntropyLoss()\n",
    "input = torch.randn(3, 5, requires_grad=True)\n",
    "print(input.shape)\n",
    "target = torch.empty(3, dtype=torch.long).random_(5)\n",
    "print(target.shape)\n",
    "output = loss(input, target)\n",
    "#output.backward()"
   ]
  },
  {
   "cell_type": "code",
   "execution_count": null,
   "metadata": {},
   "outputs": [],
   "source": [
    "optimizer = optim.Adam(model.parameters(), lr = hp.lr)\n",
    "# optimizer = optim.SGD(model.parameters(), lr=0.0001, momentum=0.9)\n",
    "criterion = nn.CrossEntropyLoss(ignore_index=0)\n",
    "len(train_iter)"
   ]
  },
  {
   "cell_type": "code",
   "execution_count": null,
   "metadata": {},
   "outputs": [],
   "source": [
    "for i, batch in enumerate(train_iter):\n",
    "    #print(batch[0],batch[4])\n",
    "    words, x, is_heads, tags, y, seqlens = batch\n",
    "    _y = y # for monitoring\n",
    "    optimizer.zero_grad()\n",
    "    logits, y, _ = model(x, y)\n",
    "    break"
   ]
  },
  {
   "cell_type": "code",
   "execution_count": null,
   "metadata": {},
   "outputs": [],
   "source": [
    "logits.shape"
   ]
  },
  {
   "cell_type": "code",
   "execution_count": null,
   "metadata": {},
   "outputs": [],
   "source": [
    "logits.shape[-1]"
   ]
  },
  {
   "cell_type": "code",
   "execution_count": null,
   "metadata": {},
   "outputs": [],
   "source": [
    "logits.view(-1,6).shape"
   ]
  },
  {
   "cell_type": "code",
   "execution_count": null,
   "metadata": {},
   "outputs": [],
   "source": [
    "logits = logits.view(-1, logits.shape[-1])\n",
    "logits.shape"
   ]
  },
  {
   "cell_type": "code",
   "execution_count": null,
   "metadata": {},
   "outputs": [],
   "source": [
    "y = y.view(-1)\n",
    "y.shape"
   ]
  },
  {
   "cell_type": "code",
   "execution_count": null,
   "metadata": {},
   "outputs": [],
   "source": [
    "hp.VOCAB"
   ]
  },
  {
   "cell_type": "code",
   "execution_count": null,
   "metadata": {},
   "outputs": [],
   "source": [
    "f = os.path.join('checkpoints', '10.P0.97_R0.97_F0.97')\n",
    "f"
   ]
  },
  {
   "cell_type": "code",
   "execution_count": null,
   "metadata": {},
   "outputs": [],
   "source": [
    "y_true = []\n",
    "y_pred = []\n",
    "i = 0\n",
    "for line in open(f, 'r').read().splitlines():\n",
    "    i += 1\n",
    "    if len(line) > 0:\n",
    "        #print(line.split()[1])\n",
    "        #print(hp.tag2idx[line.split()[1]])\n",
    "        y_true.append(hp.tag2idx[line.split()[1]])\n",
    "        #print(line.split()[2])\n",
    "        #print(hp.tag2idx[line.split()[2]])\n",
    "        y_pred.append(hp.tag2idx[line.split()[2]])\n",
    "    if i > 2000:\n",
    "        break"
   ]
  },
  {
   "cell_type": "code",
   "execution_count": null,
   "metadata": {},
   "outputs": [],
   "source": [
    "\n",
    "#y_true = [0, 1, 2, 2, 2]\n",
    "#y_pred = [0, 0, 2, 2, 1]\n",
    "target_names = ['class 0', 'class 1', 'class 2']\n",
    "target_names = list(hp.tag2idx.keys())[1:]\n",
    "print(classification_report(y_true, y_pred, target_names=target_names,output_dict=True))"
   ]
  },
  {
   "cell_type": "code",
   "execution_count": null,
   "metadata": {},
   "outputs": [],
   "source": [
    "final_report = classification_report(y_true, y_pred, target_names=target_names,output_dict=True)"
   ]
  },
  {
   "cell_type": "code",
   "execution_count": null,
   "metadata": {},
   "outputs": [],
   "source": [
    "print(final_report[\"accuracy\"])\n",
    "print(final_report[\"weighted avg\"]['precision'])\n",
    "print(final_report[\"weighted avg\"]['recall'])\n",
    "print(final_report[\"weighted avg\"]['f1-score'])\n"
   ]
  },
  {
   "cell_type": "code",
   "execution_count": null,
   "metadata": {},
   "outputs": [],
   "source": [
    "len(y_pred)"
   ]
  },
  {
   "cell_type": "code",
   "execution_count": null,
   "metadata": {},
   "outputs": [],
   "source": [
    "y_pred = np.array(y_pred)\n",
    "y_pred[y_pred > 1].shape"
   ]
  },
  {
   "cell_type": "code",
   "execution_count": null,
   "metadata": {},
   "outputs": [],
   "source": [
    "y_true = np.array(y_pred)\n",
    "y_true[y_true > 1].shape"
   ]
  },
  {
   "cell_type": "code",
   "execution_count": null,
   "metadata": {},
   "outputs": [],
   "source": [
    "Words, Is_heads, Tags, Y, Y_hat = [], [], [], [], []\n",
    "with torch.no_grad():\n",
    "    for i, batch in enumerate(eval_iter):\n",
    "        words, x, is_heads, tags, y, seqlens = batch\n",
    "\n",
    "        _, _, y_hat = model(x, y)  # y_hat: (N, T)\n",
    "\n",
    "        Words.extend(words)\n",
    "        Is_heads.extend(is_heads)\n",
    "        Tags.extend(tags)\n",
    "        Y.extend(y.numpy().tolist())\n",
    "        Y_hat.extend(y_hat.cpu().numpy().tolist())\n",
    "        \n",
    "        "
   ]
  },
  {
   "cell_type": "code",
   "execution_count": null,
   "metadata": {},
   "outputs": [],
   "source": [
    "y_pred =[]\n",
    "y_true = []\n",
    "for words, is_heads, tags, y_hat, y in zip(Words, Is_heads, Tags, Y_hat, Y):\n",
    "            y_hat = [hat for head, hat in zip(is_heads, y_hat) if head == 1]\n",
    "            y_pred.append(y_hat[1:-1])\n",
    "            y = [hat for head, hat in zip(is_heads, y) if head == 1]\n",
    "            y_true.append(y[1:-1])\n",
    "            \n",
    "\n",
    "\n",
    "\n",
    "\n"
   ]
  },
  {
   "cell_type": "code",
   "execution_count": null,
   "metadata": {},
   "outputs": [],
   "source": [
    "len(y_pred)"
   ]
  },
  {
   "cell_type": "code",
   "execution_count": null,
   "metadata": {},
   "outputs": [],
   "source": [
    "len(y_true)"
   ]
  },
  {
   "cell_type": "code",
   "execution_count": null,
   "metadata": {},
   "outputs": [],
   "source": [
    "from sklearn_crfsuite.metrics import flat_classification_report\n",
    "print(classification_report(flatten(y_true), flatten(y_pred), target_names=list(hp.tag2idx.keys())[1:]))"
   ]
  },
  {
   "cell_type": "code",
   "execution_count": null,
   "metadata": {},
   "outputs": [],
   "source": [
    "len(flatten(y_pred))"
   ]
  },
  {
   "cell_type": "code",
   "execution_count": null,
   "metadata": {},
   "outputs": [],
   "source": [
    "len(flatten(y_true))"
   ]
  },
  {
   "cell_type": "code",
   "execution_count": null,
   "metadata": {},
   "outputs": [],
   "source": []
  }
 ],
 "metadata": {
  "kernelspec": {
   "display_name": "conda_pytorch_latest_p36",
   "language": "python",
   "name": "conda_pytorch_latest_p36"
  },
  "language_info": {
   "codemirror_mode": {
    "name": "ipython",
    "version": 3
   },
   "file_extension": ".py",
   "mimetype": "text/x-python",
   "name": "python",
   "nbconvert_exporter": "python",
   "pygments_lexer": "ipython3",
   "version": "3.6.10"
  }
 },
 "nbformat": 4,
 "nbformat_minor": 4
}
